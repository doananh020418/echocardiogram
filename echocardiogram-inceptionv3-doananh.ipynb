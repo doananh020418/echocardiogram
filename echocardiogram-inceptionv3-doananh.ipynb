{
 "cells": [
  {
   "cell_type": "code",
   "execution_count": 1,
   "metadata": {
    "execution": {
     "iopub.execute_input": "2021-11-03T07:57:19.100229Z",
     "iopub.status.busy": "2021-11-03T07:57:19.099589Z",
     "iopub.status.idle": "2021-11-03T07:57:19.111078Z",
     "shell.execute_reply": "2021-11-03T07:57:19.110204Z",
     "shell.execute_reply.started": "2021-11-03T07:57:19.100012Z"
    }
   },
   "outputs": [
    {
     "name": "stdout",
     "output_type": "stream",
     "text": [
      "Using CUDA\n"
     ]
    }
   ],
   "source": [
    "import numpy as np\n",
    "%matplotlib inline\n",
    "import matplotlib.pyplot as plt\n",
    "from PIL import Image\n",
    "import torch\n",
    "from torchvision import datasets, models, transforms\n",
    "import torch.nn as nn\n",
    "from torch.nn import functional as F\n",
    "import torch.optim as optim\n",
    "import torchvision\n",
    "from torch.autograd import Variable\n",
    "import time\n",
    "import copy\n",
    "\n",
    "input_path = \"../input/data-chamber/DATA_CHAMBER_2021/\" \n",
    "use_gpu = torch.cuda.is_available()\n",
    "if use_gpu:\n",
    "    print(\"Using CUDA\")\n",
    "    "
   ]
  },
  {
   "cell_type": "code",
   "execution_count": 2,
   "metadata": {
    "execution": {
     "iopub.execute_input": "2021-11-03T07:57:19.113292Z",
     "iopub.status.busy": "2021-11-03T07:57:19.112742Z",
     "iopub.status.idle": "2021-11-03T07:57:21.293155Z",
     "shell.execute_reply": "2021-11-03T07:57:21.292090Z",
     "shell.execute_reply.started": "2021-11-03T07:57:19.113239Z"
    }
   },
   "outputs": [
    {
     "name": "stdout",
     "output_type": "stream",
     "text": [
      "densenet161-17b70270.pth\t  resnet50-19c8e357.pth\r\n",
      "inception_v3_google-1a9a5a14.pth  squeezenet1_0-a815701f.pth\r\n",
      "resnet18-5c106cde.pth\t\t  squeezenet1_1-f364aa15.pth\r\n"
     ]
    }
   ],
   "source": [
    "import os\n",
    "from os import listdir, makedirs, getcwd, remove\n",
    "from os.path import join, exists, expanduser\n",
    "\n",
    "cache_dir = expanduser(join('~', '.torch'))\n",
    "\n",
    "if not exists(cache_dir):\n",
    "    makedirs(cache_dir)\n",
    "models_dir = join(cache_dir, 'models')\n",
    "if not exists(models_dir):\n",
    "    makedirs(models_dir)\n",
    "    \n",
    "!cp ../input/pretrained-pytorch-models/* ~/.torch/models/\n",
    "!ls ~/.torch/models"
   ]
  },
  {
   "cell_type": "code",
   "execution_count": 3,
   "metadata": {
    "execution": {
     "iopub.execute_input": "2021-11-03T07:57:21.295520Z",
     "iopub.status.busy": "2021-11-03T07:57:21.295176Z",
     "iopub.status.idle": "2021-11-03T07:57:21.306397Z",
     "shell.execute_reply": "2021-11-03T07:57:21.302032Z",
     "shell.execute_reply.started": "2021-11-03T07:57:21.295464Z"
    }
   },
   "outputs": [],
   "source": [
    "class ImageFolderWithPaths(datasets.ImageFolder):\n",
    "    \"\"\"Custom dataset that includes image file paths. Extends\n",
    "    torchvision.datasets.ImageFolder\n",
    "    \"\"\"\n",
    "\n",
    "    # override the __getitem__ method. this is the method that dataloader calls\n",
    "    def __getitem__(self, index):\n",
    "        # this is what ImageFolder normally returns \n",
    "        original_tuple = super(ImageFolderWithPaths, self).__getitem__(index)\n",
    "        # the image file path\n",
    "        path = self.imgs[index][0]\n",
    "        # make a new tuple that includes original and the path\n",
    "        tuple_with_path = (original_tuple + (path,))\n",
    "        return tuple_with_path"
   ]
  },
  {
   "cell_type": "code",
   "execution_count": 4,
   "metadata": {
    "execution": {
     "iopub.execute_input": "2021-11-03T07:57:21.308762Z",
     "iopub.status.busy": "2021-11-03T07:57:21.308454Z",
     "iopub.status.idle": "2021-11-03T07:57:22.490189Z",
     "shell.execute_reply": "2021-11-03T07:57:22.489278Z",
     "shell.execute_reply.started": "2021-11-03T07:57:21.308711Z"
    }
   },
   "outputs": [],
   "source": [
    "def set_parameter_requires_grad(model, feature_extracting):\n",
    "    if feature_extracting:\n",
    "        for param in model.parameters():\n",
    "            param.requires_grad = False"
   ]
  },
  {
   "cell_type": "code",
   "execution_count": 5,
   "metadata": {
    "execution": {
     "iopub.execute_input": "2021-11-03T07:57:22.492395Z",
     "iopub.status.busy": "2021-11-03T07:57:22.491888Z",
     "iopub.status.idle": "2021-11-03T07:57:25.311500Z",
     "shell.execute_reply": "2021-11-03T07:57:25.310660Z",
     "shell.execute_reply.started": "2021-11-03T07:57:22.492333Z"
    }
   },
   "outputs": [],
   "source": [
    "def initialize_model(model_name, num_classes, feature_extract = False, use_pretrained=True):\n",
    "    # Initialize these variables which will be set in this if statement. Each of these\n",
    "    #   variables is model specific.\n",
    "    model_ft = None\n",
    "    input_size = 0\n",
    "\n",
    "    if model_name == \"resnet\":\n",
    "        \"\"\" Resnet18\n",
    "        \"\"\"\n",
    "        model_ft = models.resnet18(pretrained=use_pretrained)\n",
    "        set_parameter_requires_grad(model_ft, feature_extract)\n",
    "        num_ftrs = model_ft.fc.in_features\n",
    "        model_ft.fc = nn.Linear(num_ftrs, num_classes)\n",
    "        input_size = 224\n",
    "\n",
    "    elif model_name == \"alexnet\":\n",
    "        \"\"\" Alexnet\n",
    "        \"\"\"\n",
    "        model_ft = models.alexnet(pretrained=use_pretrained)\n",
    "        set_parameter_requires_grad(model_ft, feature_extract)\n",
    "        num_ftrs = model_ft.classifier[6].in_features\n",
    "        model_ft.classifier[6] = nn.Linear(num_ftrs,num_classes)\n",
    "        input_size = 224\n",
    "\n",
    "    elif model_name == \"vgg\":\n",
    "        \"\"\" VGG11_bn\n",
    "        \"\"\"\n",
    "        model_ft = models.vgg19_bn(pretrained=use_pretrained)\n",
    "        set_parameter_requires_grad(model_ft, feature_extract)\n",
    "        num_ftrs = model_ft.classifier[6].in_features\n",
    "        model_ft.classifier[6] = nn.Linear(num_ftrs,num_classes)\n",
    "        input_size = 224\n",
    "\n",
    "    elif model_name == \"squeezenet\":\n",
    "        \"\"\" Squeezenet\n",
    "        \"\"\"\n",
    "        model_ft = models.squeezenet1_0(pretrained=use_pretrained)\n",
    "        set_parameter_requires_grad(model_ft, feature_extract)\n",
    "        model_ft.classifier[1] = nn.Conv2d(512, num_classes, kernel_size=(1,1), stride=(1,1))\n",
    "        model_ft.num_classes = num_classes\n",
    "        input_size = 224\n",
    "\n",
    "    elif model_name == \"densenet\":\n",
    "        \"\"\" Densenet\n",
    "        \"\"\"\n",
    "        model_ft = models.densenet121(pretrained=use_pretrained)\n",
    "        set_parameter_requires_grad(model_ft, feature_extract)\n",
    "        num_ftrs = model_ft.classifier.in_features\n",
    "        model_ft.classifier = nn.Linear(num_ftrs, num_classes)\n",
    "        input_size = 224\n",
    "\n",
    "    elif model_name == \"inception\":\n",
    "        \"\"\" Inception v3\n",
    "        Be careful, expects (299,299) sized images and has auxiliary output\n",
    "        \"\"\"\n",
    "        model_ft = models.inception_v3(pretrained=use_pretrained)\n",
    "        set_parameter_requires_grad(model_ft, feature_extract)\n",
    "        # Handle the auxilary net\n",
    "        num_ftrs = model_ft.AuxLogits.fc.in_features\n",
    "        model_ft.AuxLogits.fc = nn.Linear(num_ftrs, num_classes)\n",
    "        # Handle the primary net\n",
    "        num_ftrs = model_ft.fc.in_features\n",
    "        model_ft.fc = nn.Linear(num_ftrs,num_classes)\n",
    "        input_size = 299\n",
    "\n",
    "    else:\n",
    "        print(\"Invalid model name, exiting...\")\n",
    "        exit()\n",
    "\n",
    "    return model_ft, input_size\n",
    "\n",
    "# Initialize the model for this run\n",
    "model_ft, input_size = initialize_model('inception', 3, use_pretrained=True)\n",
    "\n",
    "# Print the model we just instantiated\n",
    "#print(model_ft)"
   ]
  },
  {
   "cell_type": "code",
   "execution_count": 6,
   "metadata": {
    "execution": {
     "iopub.execute_input": "2021-11-03T07:57:25.313262Z",
     "iopub.status.busy": "2021-11-03T07:57:25.312713Z",
     "iopub.status.idle": "2021-11-03T07:57:26.557429Z",
     "shell.execute_reply": "2021-11-03T07:57:26.556817Z",
     "shell.execute_reply.started": "2021-11-03T07:57:25.313211Z"
    }
   },
   "outputs": [
    {
     "name": "stdout",
     "output_type": "stream",
     "text": [
      "{'train': <torch.utils.data.dataloader.DataLoader object at 0x7f4388a8d4e0>, 'validation': <torch.utils.data.dataloader.DataLoader object at 0x7f4388a8d4a8>}\n"
     ]
    },
    {
     "data": {
      "text/plain": [
       "840"
      ]
     },
     "execution_count": 6,
     "metadata": {},
     "output_type": "execute_result"
    }
   ],
   "source": [
    "\n",
    "\n",
    "data_transforms = {\n",
    "    'train': transforms.Compose([   # Here we do not make data augmentations\n",
    "        transforms.Resize(input_size),\n",
    "        transforms.CenterCrop(input_size), # Note that we want to use Inception v3, it requires this size of images\n",
    "        transforms.ToTensor(),\n",
    "        #transforms.Normalize([0.485, 0.456, 0.406], [0.229, 0.224, 0.225])  # We can simply use this parameter\n",
    "    ]),\n",
    "    'validation': transforms.Compose([\n",
    "        transforms.Resize(input_size),\n",
    "        transforms.CenterCrop(input_size),\n",
    "        transforms.ToTensor(),\n",
    "        #transforms.Normalize([0.485, 0.456, 0.406], [0.229, 0.224, 0.225])\n",
    "    ]),\n",
    "}\n",
    "\n",
    "\n",
    "\n",
    "image_datasets = {\n",
    "    'train': \n",
    "    ImageFolderWithPaths(input_path + 'train', data_transforms['train']),\n",
    "    'validation': \n",
    "    ImageFolderWithPaths(input_path + 'test', data_transforms['validation'])\n",
    "}\n",
    "dataset_sizes = {x: len(image_datasets[x]) for x in ['train','validation']}\n",
    "\n",
    "dataloaders = {\n",
    "    'train':\n",
    "    torch.utils.data.DataLoader(image_datasets['train'],\n",
    "                                batch_size=8,\n",
    "                                shuffle=True,\n",
    "                                num_workers=1),  # for Kaggle\n",
    "    'validation':\n",
    "    torch.utils.data.DataLoader(image_datasets['validation'],\n",
    "                                batch_size=8,\n",
    "                                shuffle=True,\n",
    "                                num_workers=1)  # for Kaggle\n",
    "}\n",
    "class_names = image_datasets['train'].classes\n",
    "\n",
    "# See some statistics\n",
    "print(dataloaders)\n",
    "len(dataloaders['train'])"
   ]
  },
  {
   "cell_type": "markdown",
   "metadata": {},
   "source": [
    "### Visualize a few images"
   ]
  },
  {
   "cell_type": "code",
   "execution_count": 7,
   "metadata": {
    "execution": {
     "iopub.execute_input": "2021-11-03T07:57:26.558925Z",
     "iopub.status.busy": "2021-11-03T07:57:26.558643Z",
     "iopub.status.idle": "2021-11-03T07:57:27.047966Z",
     "shell.execute_reply": "2021-11-03T07:57:27.046897Z",
     "shell.execute_reply.started": "2021-11-03T07:57:26.558878Z"
    }
   },
   "outputs": [
    {
     "data": {
      "image/png": "[encoded data removed]",
      "text/plain": [
       "<Figure size 432x288 with 1 Axes>"
      ]
     },
     "metadata": {},
     "output_type": "display_data"
    }
   ],
   "source": [
    "import numpy as np\n",
    "import matplotlib.pyplot as plt\n",
    "plt.ion()   # interactive mode\n",
    "\n",
    "# def imshow(inp, title=None):\n",
    "#     \"\"\"Imshow for Tensor.\"\"\"\n",
    "#     inp = inp.numpy().transpose((1, 2, 0))\n",
    "#     mean = np.array([0.485, 0.456, 0.406])\n",
    "#     std = np.array([0.229, 0.224, 0.225])\n",
    "#     inp = std * inp + mean\n",
    "#     inp = np.clip(inp, 0, 1)\n",
    "#     plt.imshow(inp)\n",
    "#     if title is not None:\n",
    "#         plt.title(title)\n",
    "#     plt.pause(0.001)  # pause a bit so that plots are updated\n",
    "\n",
    "def imshow(inp, title=None):\n",
    "    inp = inp.numpy().transpose((1, 2, 0))\n",
    "    # plt.figure(figsize=(10, 10))\n",
    "    plt.axis('off')\n",
    "    plt.imshow(inp)\n",
    "    if title is not None:\n",
    "        plt.title(title)\n",
    "    plt.pause(0.001)\n",
    "\n",
    "\n",
    "# Get a batch of training data\n",
    "inputs, classes,_ = next(iter(dataloaders['train']))\n",
    "\n",
    "# Make a grid from batch\n",
    "out = torchvision.utils.make_grid(inputs)\n",
    "\n",
    "imshow(out)\n",
    "\n",
    "# imshow(out, title=[class_names[x] for x in classes])"
   ]
  },
  {
   "cell_type": "markdown",
   "metadata": {},
   "source": [
    "## 2. General functions to train and visualize\n",
    "\n",
    "Here we use a general function to train a model. It includes:\n",
    "\n",
    "* Scheduling the learning rate\n",
    "* Saving the best model\n",
    "\n",
    "We use [*torch.optim.lr_scheduler*](https://pytorch.org/docs/stable/optim.html#how-to-adjust-learning-rate). It provides several methods to adjust the learning rate based on the number of epochs. Our function parameter `scheduler` is an object from it."
   ]
  },
  {
   "cell_type": "code",
   "execution_count": 8,
   "metadata": {
    "execution": {
     "iopub.execute_input": "2021-11-03T07:57:27.049926Z",
     "iopub.status.busy": "2021-11-03T07:57:27.049594Z",
     "iopub.status.idle": "2021-11-03T07:57:27.076078Z",
     "shell.execute_reply": "2021-11-03T07:57:27.075105Z",
     "shell.execute_reply.started": "2021-11-03T07:57:27.049875Z"
    },
    "jupyter": {
     "source_hidden": true
    }
   },
   "outputs": [],
   "source": [
    "def train_model(model, criterion, optimizer, scheduler, num_epochs=2, is_inception=False):\n",
    "    since = time.time()\n",
    "\n",
    "    best_model_wts = copy.deepcopy(model.state_dict())\n",
    "    best_acc = 0.0\n",
    "\n",
    "    for epoch in range(num_epochs):\n",
    "        print('Epoch {}/{}'.format(epoch + 1, num_epochs))\n",
    "        print('-' * 10)\n",
    "\n",
    "        # Each epoch has a training and validation phase\n",
    "        for phase in ['train', 'validation']:\n",
    "            if phase == 'train':\n",
    "                scheduler.step()\n",
    "                model.train()  # Set model to training mode\n",
    "            else:\n",
    "                model.eval()   # Set model to evaluate mode\n",
    "\n",
    "            running_loss = 0.0\n",
    "            running_corrects = 0\n",
    "\n",
    "            # Iterate over data.\n",
    "            for inputs, labels,_ in dataloaders[phase]:\n",
    "                inputs = inputs.to(device)\n",
    "                labels = labels.to(device)\n",
    "\n",
    "                # zero the parameter gradients\n",
    "                optimizer.zero_grad()\n",
    "\n",
    "                # forward\n",
    "                # track history if only in train\n",
    "                with torch.set_grad_enabled(phase == 'train'):\n",
    "                    # Get model outputs and calculate loss\n",
    "                    # Special case for inception because in training it has an auxiliary output. In train\n",
    "                    # mode we calculate the loss by summing the final output and the auxiliary output\n",
    "                    # but in testing we only consider the final output.\n",
    "                    if is_inception and phase == 'train':\n",
    "                        # From https://discuss.pytorch.org/t/how-to-optimize-inception-model-with-auxiliary-classifiers/7958\n",
    "                        outputs, aux_outputs = model(inputs)\n",
    "                        loss1 = criterion(outputs, labels)\n",
    "                        loss2 = criterion(aux_outputs, labels)\n",
    "                        loss = loss1 + 0.4*loss2\n",
    "                    else:\n",
    "                        outputs = model(inputs)\n",
    "                        loss = criterion(outputs, labels)\n",
    "                    \n",
    "                    _, preds = torch.max(outputs, 1)\n",
    "\n",
    "                    # backward + optimize only if in training phase\n",
    "                    if phase == 'train':\n",
    "                        loss.backward()\n",
    "                        optimizer.step()\n",
    "\n",
    "                # statistics\n",
    "                running_loss += loss.item() * inputs.size(0)\n",
    "                running_corrects += torch.sum(preds == labels.data)\n",
    "                del inputs,labels,\n",
    "\n",
    "            epoch_loss = running_loss / dataset_sizes[phase]\n",
    "            epoch_acc = running_corrects.double() / dataset_sizes[phase]\n",
    "\n",
    "            print('{} Loss: {:.4f} Acc: {:.4f}'.format(\n",
    "                phase, epoch_loss, epoch_acc))\n",
    "\n",
    "            # deep copy the model\n",
    "            if phase == 'validation' and epoch_acc > best_acc:\n",
    "                best_acc = epoch_acc\n",
    "                best_model_wts = copy.deepcopy(model.state_dict())\n",
    "\n",
    "        print()\n",
    "\n",
    "    time_elapsed = time.time() - since\n",
    "    print('Training complete in {:.0f}m {:.0f}s'.format(\n",
    "        time_elapsed // 60, time_elapsed % 60))\n",
    "    print('Best val Acc: {:4f}'.format(best_acc))\n",
    "\n",
    "    # load best model weights\n",
    "    model.load_state_dict(best_model_wts)\n",
    "    return model"
   ]
  },
  {
   "cell_type": "markdown",
   "metadata": {},
   "source": [
    "### Visualizing the model predictions\n",
    "\n",
    "A generic function to display predictions for a few images."
   ]
  },
  {
   "cell_type": "code",
   "execution_count": 9,
   "metadata": {
    "execution": {
     "iopub.execute_input": "2021-11-03T07:57:27.084874Z",
     "iopub.status.busy": "2021-11-03T07:57:27.081889Z",
     "iopub.status.idle": "2021-11-03T07:57:27.096195Z",
     "shell.execute_reply": "2021-11-03T07:57:27.095112Z",
     "shell.execute_reply.started": "2021-11-03T07:57:27.084791Z"
    },
    "jupyter": {
     "source_hidden": true
    }
   },
   "outputs": [],
   "source": [
    "def visualize_model(model, num_images=6):\n",
    "    was_training = model.training\n",
    "    model.eval()\n",
    "    images_so_far = 0\n",
    "    fig = plt.figure()\n",
    "\n",
    "    with torch.no_grad():\n",
    "        for i, (inputs, labels,_) in enumerate(dataloaders['validation']):\n",
    "            inputs = inputs.to(device)\n",
    "            labels = labels.to(device)\n",
    "\n",
    "            outputs = model(inputs)\n",
    "            _, preds = torch.max(outputs, 1)\n",
    "\n",
    "            for j in range(inputs.size()[0]):\n",
    "                images_so_far += 1\n",
    "                ax = plt.subplot(num_images//2, 2, images_so_far)\n",
    "                ax.axis('off')\n",
    "                ax.set_title('predicted: {}'.format(class_names[preds[j]]))\n",
    "                imshow(inputs.cpu().data[j])\n",
    "\n",
    "                if images_so_far == num_images:\n",
    "                    model.train(mode=was_training)\n",
    "                    return\n",
    "        model.train(mode=was_training)"
   ]
  },
  {
   "cell_type": "markdown",
   "metadata": {},
   "source": [
    "## 3. Transfer learning: feature extractor\n",
    "\n",
    "Here we use **Inception v3** as a fixed feature extractor.\n",
    "\n",
    "Here, we need to freeze all the network except the final layer. We need to set `requires_grad == False` to freeze the parameters so that the gradients are not computed in `backward()`.\n",
    "\n",
    "### Inception v3\n",
    "\n",
    "Inception v3 was first described in [Rethinking the Inception Architecture for Computer Vision](https://arxiv.org/pdf/1512.00567v1.pdf). This network is unique because it has two output layers when training. \n",
    "\n",
    "The second output is known as an auxiliary output and is contained in the AuxLogits part of the network. The primary output is a linear layer at the end of the network. \n",
    "\n",
    "Note, when testing we only consider the primary output. "
   ]
  },
  {
   "cell_type": "markdown",
   "metadata": {},
   "source": [
    "## 4. Train and evaluate\n",
    "\n",
    "We use [torch.optim.lr_scheduler.StepLR](https://pytorch.org/docs/stable/optim.html#torch.optim.lr_scheduler.StepLR) to schedule the learning rate."
   ]
  },
  {
   "cell_type": "code",
   "execution_count": 10,
   "metadata": {
    "execution": {
     "iopub.execute_input": "2021-11-03T08:28:04.148857Z",
     "iopub.status.busy": "2021-11-03T08:28:04.148548Z",
     "iopub.status.idle": "2021-11-03T08:28:04.155548Z",
     "shell.execute_reply": "2021-11-03T08:28:04.154659Z",
     "shell.execute_reply.started": "2021-11-03T08:28:04.148790Z"
    }
   },
   "outputs": [],
   "source": [
    "\n",
    "def test_model(model, criterion, optimizer):\n",
    "    labels_input=list()\n",
    "    labels_output=list()\n",
    "    vid_id = list()\n",
    "    for phase in ['validation']:\n",
    "        model.eval()\n",
    "\n",
    "        running_loss = 0.0\n",
    "        running_corrects = 0\n",
    "\n",
    "        for inputs, labels, fname in dataloaders[phase]:\n",
    "            inputs = inputs.to(device)\n",
    "            labels = labels.to(device)\n",
    "            labels_input= labels_input + labels.tolist()\n",
    "            for f in fname:\n",
    "                vid_id.append(f.split('/')[-1].split('.')[0].split('_')[0])\n",
    "            outputs = model(inputs)\n",
    "            \n",
    "            loss = criterion(outputs, labels)\n",
    "            _, preds = torch.max(outputs, 1)\n",
    "            \n",
    "            labels_output= labels_output + preds.tolist()\n",
    "    return labels_input,labels_output,vid_id\n",
    "            \n",
    "# y_true,y_pred,vid_id = test_model(model, criterion, optimizer)"
   ]
  },
  {
   "cell_type": "code",
   "execution_count": 11,
   "metadata": {
    "execution": {
     "iopub.execute_input": "2021-11-03T07:57:27.113621Z",
     "iopub.status.busy": "2021-11-03T07:57:27.113351Z",
     "iopub.status.idle": "2021-11-03T07:57:30.493876Z",
     "shell.execute_reply": "2021-11-03T07:57:30.493118Z",
     "shell.execute_reply.started": "2021-11-03T07:57:27.113574Z"
    }
   },
   "outputs": [],
   "source": [
    "from torch.optim import lr_scheduler\n",
    "\n",
    "device = torch.device(\"cuda:0\" if torch.cuda.is_available() else \"cpu\")\n",
    "\n",
    "model_ft = model_ft.to(device)\n",
    "\n",
    "# Observe that only parameters of final layer are being optimized as\n",
    "# opposed to before.\n",
    "params_to_update = []\n",
    "for name,param in model_ft.named_parameters():\n",
    "    if param.requires_grad == True:\n",
    "        params_to_update.append(param)\n",
    "\n",
    "optimizer_conv = optim.SGD(params_to_update, lr=0.01, momentum=0.9)\n",
    "\n",
    "criterion = nn.CrossEntropyLoss()\n",
    "# Decay LR by a factor of 0.1 every epoch\n",
    "exp_lr_scheduler = lr_scheduler.StepLR(optimizer_conv, step_size=1, gamma=0.1)"
   ]
  },
  {
   "cell_type": "code",
   "execution_count": 12,
   "metadata": {
    "execution": {
     "iopub.execute_input": "2021-11-03T07:57:30.495571Z",
     "iopub.status.busy": "2021-11-03T07:57:30.495300Z",
     "iopub.status.idle": "2021-11-03T08:27:31.032985Z",
     "shell.execute_reply": "2021-11-03T08:27:31.032116Z",
     "shell.execute_reply.started": "2021-11-03T07:57:30.495525Z"
    }
   },
   "outputs": [
    {
     "name": "stdout",
     "output_type": "stream",
     "text": [
      "Epoch 1/7\n",
      "----------\n",
      "train Loss: 0.3127 Acc: 0.9241\n",
      "validation Loss: 0.1307 Acc: 0.9540\n",
      "\n",
      "Epoch 2/7\n",
      "----------\n",
      "train Loss: 0.0100 Acc: 0.9991\n",
      "validation Loss: 0.1087 Acc: 0.9695\n",
      "\n",
      "Epoch 3/7\n",
      "----------\n",
      "train Loss: 0.0095 Acc: 0.9994\n",
      "validation Loss: 0.1063 Acc: 0.9683\n",
      "\n",
      "Epoch 4/7\n",
      "----------\n",
      "train Loss: 0.0048 Acc: 0.9993\n",
      "validation Loss: 0.1126 Acc: 0.9652\n",
      "\n",
      "Epoch 5/7\n",
      "----------\n",
      "train Loss: 0.0039 Acc: 0.9996\n",
      "validation Loss: 0.1142 Acc: 0.9664\n",
      "\n",
      "Epoch 6/7\n",
      "----------\n",
      "train Loss: 0.0044 Acc: 1.0000\n",
      "validation Loss: 0.1233 Acc: 0.9652\n",
      "\n",
      "Epoch 7/7\n",
      "----------\n",
      "train Loss: 0.0047 Acc: 0.9997\n",
      "validation Loss: 0.1112 Acc: 0.9664\n",
      "\n",
      "Training complete in 13m 51s\n",
      "Best val Acc: 0.969508\n"
     ]
    }
   ],
   "source": [
    "model_ft = train_model(model_ft, criterion, optimizer_conv,\n",
    "                         exp_lr_scheduler, num_epochs=7, is_inception=True) # As an example, only show the results of 2 epoch"
   ]
  },
  {
   "cell_type": "code",
   "execution_count": 13,
   "metadata": {
    "execution": {
     "iopub.execute_input": "2021-11-03T08:27:31.035021Z",
     "iopub.status.busy": "2021-11-03T08:27:31.034696Z",
     "iopub.status.idle": "2021-11-03T08:27:32.061227Z",
     "shell.execute_reply": "2021-11-03T08:27:32.060019Z",
     "shell.execute_reply.started": "2021-11-03T08:27:31.034968Z"
    }
   },
   "outputs": [
    {
     "data": {
      "image/png": "[encoded data removed]",
      "text/plain": [
       "<Figure size 432x288 with 1 Axes>"
      ]
     },
     "metadata": {},
     "output_type": "display_data"
    },
    {
     "data": {
      "image/png": "[encoded data removed]",
      "text/plain": [
       "<Figure size 432x288 with 1 Axes>"
      ]
     },
     "metadata": {},
     "output_type": "display_data"
    },
    {
     "data": {
      "image/png": "[encoded data removed]",
      "text/plain": [
       "<Figure size 432x288 with 1 Axes>"
      ]
     },
     "metadata": {},
     "output_type": "display_data"
    },
    {
     "data": {
      "image/png": "[encoded data removed]",
      "text/plain": [
       "<Figure size 432x288 with 1 Axes>"
      ]
     },
     "metadata": {},
     "output_type": "display_data"
    },
    {
     "data": {
      "image/png": "[encoded data removed]",
      "text/plain": [
       "<Figure size 432x288 with 1 Axes>"
      ]
     },
     "metadata": {},
     "output_type": "display_data"
    },
    {
     "data": {
      "image/png": "[encoded data removed]",
      "text/plain": [
       "<Figure size 432x288 with 1 Axes>"
      ]
     },
     "metadata": {},
     "output_type": "display_data"
    }
   ],
   "source": [
    "visualize_model(model_ft)\n",
    "\n",
    "plt.ioff()\n",
    "plt.show()"
   ]
  },
  {
   "cell_type": "code",
   "execution_count": 14,
   "metadata": {
    "execution": {
     "iopub.execute_input": "2021-11-03T08:28:09.215864Z",
     "iopub.status.busy": "2021-11-03T08:28:09.215521Z",
     "iopub.status.idle": "2021-11-03T08:28:28.199179Z",
     "shell.execute_reply": "2021-11-03T08:28:28.198134Z",
     "shell.execute_reply.started": "2021-11-03T08:28:09.215795Z"
    }
   },
   "outputs": [],
   "source": [
    "y_true,y_pred,vid_id = test_model(model_ft, criterion, optimizer_conv)\n"
   ]
  },
  {
   "cell_type": "code",
   "execution_count": 15,
   "metadata": {
    "execution": {
     "iopub.execute_input": "2021-11-03T08:28:38.427256Z",
     "iopub.status.busy": "2021-11-03T08:28:38.426954Z",
     "iopub.status.idle": "2021-11-03T08:28:38.811901Z",
     "shell.execute_reply": "2021-11-03T08:28:38.811018Z",
     "shell.execute_reply.started": "2021-11-03T08:28:38.427203Z"
    }
   },
   "outputs": [
    {
     "data": {
      "text/plain": [
       "0.9695084007467331"
      ]
     },
     "execution_count": 15,
     "metadata": {},
     "output_type": "execute_result"
    }
   ],
   "source": [
    "from sklearn.metrics import accuracy_score\n",
    "accuracy_score(y_true,y_pred)"
   ]
  },
  {
   "cell_type": "code",
   "execution_count": 16,
   "metadata": {
    "execution": {
     "iopub.execute_input": "2021-11-03T08:28:54.890329Z",
     "iopub.status.busy": "2021-11-03T08:28:54.889977Z",
     "iopub.status.idle": "2021-11-03T08:28:55.218187Z",
     "shell.execute_reply": "2021-11-03T08:28:55.217288Z",
     "shell.execute_reply.started": "2021-11-03T08:28:54.890251Z"
    }
   },
   "outputs": [],
   "source": [
    "import pandas as pd\n",
    "import glob\n",
    "\n",
    "\n",
    "df = pd.DataFrame(list(zip(y_true,y_pred,vid_id)),columns =['y_true','y_pred','vid_id'])\n",
    "df.to_csv('df.csv',encoding='utf-8',index=False)\n",
    "\n",
    "vid_list = list(set(df['vid_id'].values))\n",
    "y_true = []\n",
    "y_pred = []\n",
    "for vid in vid_list:\n",
    "    #print(vid)\n",
    "    tmp_df = df[df['vid_id']==vid]\n",
    "    #print(len(tmp_df))\n",
    "    vid_pred = tmp_df['y_pred'].mode().values[0]\n",
    "    vid_label = tmp_df['y_true'].mode().values[0]\n",
    "    y_true.append(vid_label)\n",
    "    y_pred.append(vid_pred)\n",
    "    #print(vid_label,\"\\n\",vid_pred)\n",
    "    \n",
    "    #print('vid: {} label: {} pred: {}'.format(vid,vid_label,vid_pred))"
   ]
  },
  {
   "cell_type": "code",
   "execution_count": 17,
   "metadata": {
    "execution": {
     "iopub.execute_input": "2021-11-03T08:28:58.377604Z",
     "iopub.status.busy": "2021-11-03T08:28:58.377322Z",
     "iopub.status.idle": "2021-11-03T08:28:58.386704Z",
     "shell.execute_reply": "2021-11-03T08:28:58.386033Z",
     "shell.execute_reply.started": "2021-11-03T08:28:58.377553Z"
    }
   },
   "outputs": [
    {
     "data": {
      "text/plain": [
       "0.9743589743589743"
      ]
     },
     "execution_count": 17,
     "metadata": {},
     "output_type": "execute_result"
    }
   ],
   "source": [
    "accuracy_score(y_true,y_pred)"
   ]
  }
 ],
 "metadata": {
  "kernelspec": {
   "display_name": "Python 3",
   "language": "python",
   "name": "python3"
  },
  "language_info": {
   "codemirror_mode": {
    "name": "ipython",
    "version": 3
   },
   "file_extension": ".py",
   "mimetype": "text/x-python",
   "name": "python",
   "nbconvert_exporter": "python",
   "pygments_lexer": "ipython3",
   "version": "3.6.4"
  }
 },
 "nbformat": 4,
 "nbformat_minor": 4
}
